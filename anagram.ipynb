{
 "cells": [
  {
   "cell_type": "code",
   "execution_count": 1,
   "id": "395b786e",
   "metadata": {},
   "outputs": [],
   "source": [
    "a=0  # Using counter to stop recursion\n",
    "def anagrams(File_name, word):\n",
    "    global a \n",
    "    b = open('words.txt', 'r')\n",
    "    Data = b.readlines() #list of data present in text file\n",
    "    if a>=len(Data):\n",
    "        pass        #using pass keyword to get out of the function\n",
    "    else:   \n",
    "        res = ''.join(sorted(Data[a][:-1])) #sorting and removing '\\n' from the element of list Data\n",
    "        k = ''.join(sorted(word)) #sorting the word which is given by user\n",
    "        if res ==k:\n",
    "            print(Data[a][:-1])   #To print the final result \n",
    "        a=a+1                     #Increasing the value of a\n",
    "        anagrams(File_name,word)  #recursion \n",
    "        \n"
   ]
  },
  {
   "cell_type": "code",
   "execution_count": 2,
   "id": "4527f4a3",
   "metadata": {},
   "outputs": [
    {
     "name": "stdout",
     "output_type": "stream",
     "text": [
      "cater\n",
      "crate\n",
      "react\n"
     ]
    }
   ],
   "source": [
    "anagrams('words.txt', 'trace')"
   ]
  },
  {
   "cell_type": "code",
   "execution_count": null,
   "id": "3498411d",
   "metadata": {},
   "outputs": [],
   "source": []
  },
  {
   "cell_type": "code",
   "execution_count": null,
   "id": "d05f3780",
   "metadata": {},
   "outputs": [],
   "source": []
  }
 ],
 "metadata": {
  "kernelspec": {
   "display_name": "Python 3 (ipykernel)",
   "language": "python",
   "name": "python3"
  },
  "language_info": {
   "codemirror_mode": {
    "name": "ipython",
    "version": 3
   },
   "file_extension": ".py",
   "mimetype": "text/x-python",
   "name": "python",
   "nbconvert_exporter": "python",
   "pygments_lexer": "ipython3",
   "version": "3.9.12"
  }
 },
 "nbformat": 4,
 "nbformat_minor": 5
}
